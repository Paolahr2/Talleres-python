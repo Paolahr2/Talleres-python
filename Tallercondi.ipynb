{
  "nbformat": 4,
  "nbformat_minor": 0,
  "metadata": {
    "colab": {
      "provenance": [],
      "authorship_tag": "ABX9TyPfeMu0U15mCyBpe8pAyJEV",
      "include_colab_link": true
    },
    "kernelspec": {
      "name": "python3",
      "display_name": "Python 3"
    },
    "language_info": {
      "name": "python"
    }
  },
  "cells": [
    {
      "cell_type": "markdown",
      "metadata": {
        "id": "view-in-github",
        "colab_type": "text"
      },
      "source": [
        "<a href=\"https://colab.research.google.com/github/Paolahr2/Talleres-python/blob/main/Tallercondi.ipynb\" target=\"_parent\"><img src=\"https://colab.research.google.com/assets/colab-badge.svg\" alt=\"Open In Colab\"/></a>"
      ]
    },
    {
      "cell_type": "markdown",
      "source": [
        "Taller Condicionales-Python"
      ],
      "metadata": {
        "id": "f-pcQ0AnYs8H"
      }
    },
    {
      "cell_type": "code",
      "execution_count": null,
      "metadata": {
        "id": "_IgOovcli29Y"
      },
      "outputs": [],
      "source": [
        "#1\n",
        "\n",
        "n = int(input(\"Ingrese un numero: \"))\n",
        "\n",
        "if n < 0:\n",
        "    print(f\"Numero ingresado: {n}, su positivo es: {-n}\")\n",
        "else:\n",
        "    print(f\"Numero ingresado: {n}\")\n"
      ]
    },
    {
      "cell_type": "code",
      "source": [
        "#2\n",
        "\n",
        "calificacion = float(input(\"Ingrese la calificación del alumno: \"))\n",
        "\n",
        "if calificacion < 0 or calificacion > 5:\n",
        "    print(\"Error: La calificación debe estar entre 0 y 5.\")\n",
        "elif calificacion > 3:\n",
        "    print(\"Aprobado\")\n",
        "else:\n",
        "    print(\"Reprobado\")\n",
        "\n"
      ],
      "metadata": {
        "id": "2cIFZJaTqoKC"
      },
      "execution_count": null,
      "outputs": []
    },
    {
      "cell_type": "code",
      "source": [
        "#3\n",
        "\n",
        "sueldo = float(input(\"Ingrese el sueldo del trabajador: \"))\n",
        "\n",
        "\n",
        "if sueldo < 300000:\n",
        "    aumento = sueldo * 0.15\n",
        "    sueldon = sueldo + aumento\n",
        "else:\n",
        "    sueldon = sueldo\n",
        "\n",
        "print(\"El sueldo nuevo del trabajdor es:\", sueldon)\n",
        "\n",
        "\n"
      ],
      "metadata": {
        "id": "6qlrnSjHFz7_"
      },
      "execution_count": null,
      "outputs": []
    },
    {
      "cell_type": "code",
      "source": [
        "#4\n",
        "\n",
        "sueldos = {1: 500000, 2: 700000, 3: 900000, 4: 1200000, 5: 1500000}\n",
        "\n",
        "for i in range(1, 6):\n",
        "    categoria = int(input(f\"Ingrese la categoría del empleado {i} (1 a 5): \"))\n",
        "    print(f\"Empleado {i} - Sueldo asignado:\", sueldos.get(categoria, \"Categoría inválida\"))\n"
      ],
      "metadata": {
        "id": "cPNsBabxG-nb"
      },
      "execution_count": null,
      "outputs": []
    },
    {
      "cell_type": "code",
      "source": [
        "#5\n",
        "\n",
        "num1 = float(input(\"Ingrese el primer número: \"))\n",
        "num2 = float(input(\"Ingrese el segundo número: \"))\n",
        "num3 = float(input(\"Ingrese el tercer número: \"))\n",
        "\n",
        "mayor = num1\n",
        "menor = num1\n",
        "\n",
        "if num2 > mayor:\n",
        "    mayor = num2\n",
        "if num3 > mayor:\n",
        "    mayor = num3\n",
        "if num2 < menor:\n",
        "    menor = num2\n",
        "if num3 < menor:\n",
        "    menor = num3\n",
        "\n",
        "print(\"El número mayor es:\", mayor)\n",
        "print(\"El número menor es:\", menor)\n",
        "\n",
        "if num1 == num2 == num3:\n",
        "    print(\"Los tres números son iguales.\")\n",
        "elif num1 == num2 or num1 == num3 or num2 == num3:\n",
        "    print(\"Hay dos números iguales.\")\n",
        "else:\n",
        "    print(\"Los tres números son diferentes.\")\n"
      ],
      "metadata": {
        "id": "ipqtBEAhIR7Z"
      },
      "execution_count": null,
      "outputs": []
    },
    {
      "cell_type": "code",
      "source": [
        "#6\n",
        "\n",
        "entrada = input(\"Ingrese un dato: \")\n",
        "\n",
        "if entrada.isdigit():\n",
        "    grados_celsius = int(entrada)\n",
        "    kelvin = grados_celsius + 273.15\n",
        "    print(f\"La temperatura en Kelvin es: {kelvin}\")\n",
        "\n",
        "elif entrada.replace('.', '', 1).isdigit():\n",
        "    numero_flotante = float(entrada)\n",
        "    if numero_flotante > 10.5:\n",
        "        print(\"El número es mayor a 10.5\")\n",
        "    else:\n",
        "        print(\"El número es menor o igual a 10.5\")\n",
        "\n",
        "elif len(entrada) == 1:\n",
        "    print(f\"El nombre del carácter es: '{entrada}'\")\n",
        "\n",
        "else:\n",
        "    print(\"Dato no válido\")\n"
      ],
      "metadata": {
        "id": "tVK2NMxxOhaa"
      },
      "execution_count": null,
      "outputs": []
    },
    {
      "cell_type": "code",
      "source": [
        "#7\n",
        "\n",
        "nombre = input(\"Ingrese el nombre: \")\n",
        "edad = int(input(\"Ingrese la edad: \"))\n",
        "sexo = input(\"Ingrese el sexo ( M / F / ): \")\n",
        "estado_civil = input(\"Ingrese el estado civil (soltero/casado): \")\n",
        "\n",
        "if (sexo == \"M\" and estado_civil == \"casado\" and edad > 40) or (sexo == \"F\" and estado_civil == \"soltero\" and edad < 50):\n",
        "    print(nombre)\n",
        ""
      ],
      "metadata": {
        "id": "WJJgmv13OzKA"
      },
      "execution_count": null,
      "outputs": []
    },
    {
      "cell_type": "code",
      "source": [
        "#8\n",
        "\n",
        "\n",
        "num1 = int(input(\"Ingrese el primer número: \"))\n",
        "num2 = int(input(\"Ingrese el segundo número: \"))\n",
        "num3 = int(input(\"Ingrese el tercer número: \"))\n",
        "\n",
        "\n",
        "print(\"El número medio es:\", max(min(num1, num2), min(max(num1, num2), num3)))\n"
      ],
      "metadata": {
        "id": "HeuxSyZwUbCq"
      },
      "execution_count": null,
      "outputs": []
    },
    {
      "cell_type": "code",
      "source": [
        "#9\n",
        "\n",
        "a = int(input(\"Ingrese el primer número: \"))\n",
        "b = int(input(\"Ingrese el segundo número: \"))\n",
        "c = int(input(\"Ingrese el tercer número: \"))\n",
        "\n",
        "if a > b:\n",
        "    if a > c:\n",
        "        if b > c:\n",
        "            print(a, b, c)\n",
        "        else:\n",
        "            print(a, c, b)\n",
        "    else:\n",
        "        print(c, a, b)\n",
        "elif b > c:\n",
        "    print(b, a, c)\n",
        "else:\n",
        "    print(c, b, a)\n"
      ],
      "metadata": {
        "id": "GzJ6vkxDUl9o"
      },
      "execution_count": null,
      "outputs": []
    },
    {
      "cell_type": "code",
      "source": [
        "#10\n",
        "\n",
        "cal1 = float(input(\"Ingrese la primera calificación: \"))\n",
        "cal2 = float(input(\"Ingrese la segunda calificación: \"))\n",
        "cal3 = float(input(\"Ingrese la tercera calificación: \"))\n",
        "\n",
        "promedio = (max(cal1, cal2, cal3) + (cal1 + cal2 + cal3 - min(cal1, cal2, cal3) - max(cal1, cal2, cal3))) / 2\n",
        "\n",
        "\n",
        "print(\"La calificación final es:\", promedio)\n"
      ],
      "metadata": {
        "id": "-cikLyHgVnSi"
      },
      "execution_count": null,
      "outputs": []
    },
    {
      "cell_type": "code",
      "source": [
        "#11\n",
        "\n",
        "longitud = float(input(\"Longitud de la varilla (en cm): \"))\n",
        "diametro = float(input(\"Diámetro de la varilla (en cm): \"))\n",
        "\n",
        "densidad = 3.5\n",
        "masa = (diametro * longitud) / densidad\n",
        "\n",
        "if 7.5 < longitud < 9 and 0.5 <= diametro <= 1.3 and masa <= 5.8:\n",
        "    print(\"Pieza aceptada.\")\n",
        "else:\n",
        "    print(\"Pieza rechazada.\")\n",
        "\n"
      ],
      "metadata": {
        "id": "GsydmA69WBHq"
      },
      "execution_count": null,
      "outputs": []
    },
    {
      "cell_type": "code",
      "source": [
        "#12\n",
        "\n",
        "comision_total = 0\n",
        "ventas_menores = 0\n",
        "ventas_mayores = 0\n",
        "\n",
        "for _ in range(2):\n",
        "    precio = float(input(\"Precio de la venta: \"))\n",
        "\n",
        "    if precio < 2000:\n",
        "        comision_total += precio * 0.03\n",
        "        ventas_menores += 1\n",
        "    else:\n",
        "        comision_total += precio * 0.05\n",
        "        ventas_mayores += 1\n",
        "\n",
        "print(f\"Comisión total: {comision_total}\")\n",
        "print(f\"Ventas menores de 2000: {ventas_menores}\")\n",
        "print(f\"Ventas mayores o iguales a 2000: {ventas_mayores}\")\n"
      ],
      "metadata": {
        "id": "yosqd7OYWtLw"
      },
      "execution_count": null,
      "outputs": []
    },
    {
      "cell_type": "code",
      "source": [
        "#13\n",
        "\n",
        "nota1 = float(input(\"Nota 1: \"))\n",
        "nota2 = float(input(\"Nota 2: \"))\n",
        "nota3 = float(input(\"Nota 3: \"))\n",
        "nota4 = float(input(\"Nota 4: \"))\n",
        "\n",
        "promedio = (nota1 + nota2 + nota3 + nota4) / 4\n",
        "\n",
        "print(\"Aprobado\" if promedio >= 3.0 else \"Reprobado\")\n"
      ],
      "metadata": {
        "id": "C0fpdhkCX4oF"
      },
      "execution_count": null,
      "outputs": []
    },
    {
      "cell_type": "code",
      "source": [
        "#14\n",
        "\n",
        "n = float(input(\"Ingrese un número (n): \"))\n",
        "\n",
        "if n != 0:\n",
        "    print(\"El resultado de 1/n es:\", 1 / n)\n",
        "else:\n",
        "    print(\"No se puede dividir entre cero.\")\n"
      ],
      "metadata": {
        "id": "ZTUpin2UYZlM"
      },
      "execution_count": null,
      "outputs": []
    },
    {
      "cell_type": "code",
      "source": [
        "#15\n",
        "\n",
        "import math\n",
        "\n",
        "a = float(input(\"Ingrese el valor de a: \"))\n",
        "b = float(input(\"Ingrese el valor de b: \"))\n",
        "c = float(input(\"Ingrese el valor de c: \"))\n",
        "\n",
        "raiz_principal = b**2 - 4*a*c\n",
        "\n",
        "if raiz_principal > 0:\n",
        "    x1 = (-b + math.sqrt(raiz_principal)) / (2 * a)\n",
        "    x2 = (-b - math.sqrt(raiz_principal)) / (2 * a)\n",
        "    print(\"Las soluciones son:\", x1, \"y\", x2)\n",
        "elif raiz_principal == 0:\n",
        "    x = -b / (2 * a)\n",
        "    print(\"La solución es:\", x)\n",
        "else:\n",
        "    print(\"Las soluciones son complejas.\")\n",
        "\n"
      ],
      "metadata": {
        "id": "ZRN7nhWMZDCO"
      },
      "execution_count": null,
      "outputs": []
    },
    {
      "cell_type": "code",
      "source": [
        "#16\n",
        "\n",
        "\n",
        "numero = int(input(\"Ingrese un número: \"))\n",
        "\n",
        "print(\"El numero es par\" if numero % 2 == 0 else \"El numero es impar\")\n"
      ],
      "metadata": {
        "id": "rfdOeZwtaArk"
      },
      "execution_count": null,
      "outputs": []
    },
    {
      "cell_type": "code",
      "source": [
        "#17\n",
        "\n",
        "a = int(input(\"Ingrese el primer número: \"))\n",
        "b = int(input(\"Ingrese el segundo número: \"))\n",
        "c = int(input(\"Ingrese el tercer número: \"))\n",
        "\n",
        "if a % b == 0 or a % c == 0 or b % c == 0:\n",
        "    print(\"Un número es divisible por otro.\")\n",
        "else:\n",
        "    print(\"Ningún número es divisible por otro.\")\n"
      ],
      "metadata": {
        "id": "F0a_UVzBaU3M"
      },
      "execution_count": null,
      "outputs": []
    },
    {
      "cell_type": "code",
      "source": [
        "#18\n",
        "numero = float(input(\"Ingrese un número: \"))\n",
        "\n",
        "print(\"Positivo\" if numero > 0 else \"Negativo\" if numero < 0 else \"Cero\")\n"
      ],
      "metadata": {
        "id": "8y-Auiafa1Kj"
      },
      "execution_count": null,
      "outputs": []
    }
  ]
}