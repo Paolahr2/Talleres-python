{
  "cells": [
    {
      "cell_type": "markdown",
      "metadata": {
        "id": "view-in-github",
        "colab_type": "text"
      },
      "source": [
        "<a href=\"https://colab.research.google.com/github/Paolahr2/Talleres-python/blob/main/Taller1.ipynb\" target=\"_parent\"><img src=\"https://colab.research.google.com/assets/colab-badge.svg\" alt=\"Open In Colab\"/></a>"
      ]
    },
    {
      "cell_type": "code",
      "execution_count": null,
      "metadata": {
        "colab": {
          "background_save": true,
          "base_uri": "https://localhost:8080/",
          "height": 106
        },
        "id": "YPHYevJHMiAG",
        "outputId": "aa9a335b-c2ed-4e98-fc4e-c4b68093de73"
      },
      "outputs": [
        {
          "name": "stdout",
          "output_type": "stream",
          "text": [
            "[0, 1, 1, 2, 3, 5, 8, 13, 21, 34, 55, 89]\n"
          ]
        }
      ],
      "source": [
        "def fibonacci(n):\n",
        "  a, b= 0, 1\n",
        "  for in range(n):\n",
        "    yield a\n",
        "    a, b = b, a + b\n",
        "\n",
        "    for num in fibonacci(51):\n",
        "      print(num)\n"
      ]
    },
    {
      "cell_type": "code",
      "execution_count": null,
      "metadata": {
        "colab": {
          "base_uri": "https://localhost:8080/"
        },
        "id": "FazBcVuaJtc2",
        "outputId": "e96c4a6e-fa68-4a0c-e8ce-e730bf4ba0e8"
      },
      "outputs": [
        {
          "name": "stdout",
          "output_type": "stream",
          "text": [
            "0\n",
            "1\n",
            "1\n",
            "2\n",
            "3\n",
            "5\n",
            "8\n",
            "13\n",
            "21\n",
            "34\n"
          ]
        }
      ],
      "source": [
        "#serie de fibonacci secuencial\n",
        "a = 0\n",
        "b = 1\n",
        "c = 0\n",
        "\n",
        "while a <= 50:\n",
        "\n",
        "  c = a + b\n",
        "  print(a)\n",
        "  a = b\n",
        "  b = c\n"
      ]
    },
    {
      "cell_type": "code",
      "execution_count": null,
      "metadata": {
        "colab": {
          "base_uri": "https://localhost:8080/"
        },
        "id": "ipEiZJ5bLxqa",
        "outputId": "9a1c1db2-7e8c-4cf2-ca25-55e6096a1e48"
      },
      "outputs": [
        {
          "name": "stdout",
          "output_type": "stream",
          "text": [
            "0\n",
            "1\n",
            "1\n",
            "2\n",
            "3\n",
            "5\n",
            "8\n",
            "13\n",
            "21\n",
            "34\n"
          ]
        }
      ],
      "source": [
        "#serie fibonacci con tuplas\n",
        "a = 0\n",
        "b = 1\n",
        "while a <=50:\n",
        "  print(a)\n",
        "  (a,b) = (b,a+b)"
      ]
    },
    {
      "cell_type": "code",
      "execution_count": null,
      "metadata": {
        "colab": {
          "base_uri": "https://localhost:8080/"
        },
        "id": "DjC0VwCNVPpl",
        "outputId": "e5def9a8-7010-4b01-94b1-812b210bce1d"
      },
      "outputs": [
        {
          "output_type": "stream",
          "name": "stdout",
          "text": [
            "Ingrese la velocidad: 100\n",
            "Ingrese el tiempo: 25\n",
            "2500.0\n"
          ]
        }
      ],
      "source": [
        "#1\n",
        "V = float(input(\"Ingrese la velocidad: \"))\n",
        "T = float(input(\"Ingrese el tiempo: \"))\n",
        "\n",
        "D = V * T\n",
        "print(D)\n",
        "\n"
      ]
    },
    {
      "cell_type": "code",
      "execution_count": null,
      "metadata": {
        "id": "Z5zu5Q_UX1Nw",
        "colab": {
          "base_uri": "https://localhost:8080/"
        },
        "outputId": "d13233ae-2d3e-4b17-fe9d-dd8b1b7dfcac"
      },
      "outputs": [
        {
          "output_type": "stream",
          "name": "stdout",
          "text": [
            "Ingrese la primera nota: 3\n",
            "Ingrese la segunda nota: 4.5\n",
            "Ingrese la tercera nota: 5.0\n",
            "El promedio del semestre es: 4.166666666666667\n"
          ]
        }
      ],
      "source": [
        "#2\n",
        "nota1 = float(input(\"Ingrese la primera nota: \"))\n",
        "nota2 = float(input(\"Ingrese la segunda nota: \"))\n",
        "nota3 = float(input(\"Ingrese la tercera nota: \"))\n",
        "\n",
        "promedio = (nota1 + nota2 + nota3) / 3\n",
        "\n",
        "print(f\"El promedio del semestre es: {promedio}\")\n"
      ]
    },
    {
      "cell_type": "code",
      "execution_count": null,
      "metadata": {
        "id": "HFoUYef1aEMH",
        "colab": {
          "base_uri": "https://localhost:8080/"
        },
        "outputId": "76c10b80-8aa0-4fc5-d85d-4ca48cb2b75a"
      },
      "outputs": [
        {
          "output_type": "stream",
          "name": "stdout",
          "text": [
            "Partidos Ganados: 3\n",
            "Partidos Perdidos: 2\n",
            "Partidos Empatados: 2\n",
            "Ganados: 3, Perdidos: 2, Empatados: 2, Puntos: 11\n"
          ]
        }
      ],
      "source": [
        "#3\n",
        "ganados = int(input(\"Partidos Ganados: \"))\n",
        "perdidos = int(input(\"Partidos Perdidos: \"))\n",
        "empatados = int(input(\"Partidos Empatados: \"))\n",
        "\n",
        "puntos = ganados * 3 + empatados * 1\n",
        "\n",
        "print(f\"Ganados: {ganados}, Perdidos: {perdidos}, Empatados: {empatados}, Puntos: {puntos}\")\n"
      ]
    },
    {
      "cell_type": "code",
      "source": [
        "#4\n",
        "nombreempleado = input(\"Nombre del empleado: \")\n",
        "horaslaboradas = float(input(\"Horas trabajadas: \"))\n",
        "tarifahora = float(input(\"Tarifa por hora: \"))\n",
        "\n",
        "\n",
        "print(f\"Empleado: {nombreempleado}\")\n",
        "print(f\"Total devengado  del empleado es: {horaslaboradas * tarifahora}\")\n"
      ],
      "metadata": {
        "id": "ZUc5xD58cnZ5",
        "colab": {
          "base_uri": "https://localhost:8080/"
        },
        "outputId": "904654a9-863e-4157-85aa-e20e4b270113"
      },
      "execution_count": null,
      "outputs": [
        {
          "output_type": "stream",
          "name": "stdout",
          "text": [
            "Nombre del empleado: Rubi\n",
            "Horas trabajadas: 160\n",
            "Tarifa por hora: 60000\n",
            "Empleado: Rubi\n",
            "Total devengado  del empleado es: 9600000.0\n"
          ]
        }
      ]
    },
    {
      "cell_type": "code",
      "source": [
        "#5\n",
        "import math\n",
        "\n",
        "a = float(input(\"Ingrese el valor del lado a: \"))\n",
        "b = float(input(\"Ingrese el valor del lado b: \"))\n",
        "\n",
        "\n",
        "hipotenusa = math.sqrt(a**2 + b**2)\n",
        "\n",
        "print(f\"La hipotenusa  es: {hipotenusa:}\")\n"
      ],
      "metadata": {
        "id": "R4RtQLfJdbeq",
        "colab": {
          "base_uri": "https://localhost:8080/"
        },
        "outputId": "bc9cf2b2-4e16-40fe-f03d-84fe008b169f"
      },
      "execution_count": null,
      "outputs": [
        {
          "output_type": "stream",
          "name": "stdout",
          "text": [
            "Ingrese el valor del lado a: 20\n",
            "Ingrese el valor del lado b: 30\n",
            "La hipotenusa  es: 36.05551275463989\n"
          ]
        }
      ]
    },
    {
      "cell_type": "code",
      "source": [
        "#6\n",
        "celsius = float(input(\"Ingrese la temperatura en grados Celsius: \"))\n",
        "\n",
        "print(f\"{celsius}°C equivalen a {(celsius * 1.8) + 32}°F\")\n"
      ],
      "metadata": {
        "id": "mvNwvjMeeQoA",
        "colab": {
          "base_uri": "https://localhost:8080/"
        },
        "outputId": "098523cf-aedc-4dcc-a5eb-2b560c0c79e1"
      },
      "execution_count": null,
      "outputs": [
        {
          "output_type": "stream",
          "name": "stdout",
          "text": [
            "Ingrese la temperatura en grados Celsius: 100\n",
            "100.0°C equivalen a 212.0°F\n"
          ]
        }
      ]
    }
  ],
  "metadata": {
    "colab": {
      "provenance": [],
      "authorship_tag": "ABX9TyNHIpatBHZ4eVrGk/RZMMm3",
      "include_colab_link": true
    },
    "kernelspec": {
      "display_name": "Python 3",
      "name": "python3"
    },
    "language_info": {
      "name": "python"
    }
  },
  "nbformat": 4,
  "nbformat_minor": 0
}